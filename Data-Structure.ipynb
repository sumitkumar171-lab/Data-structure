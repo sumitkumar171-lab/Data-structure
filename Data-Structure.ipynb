{
 "cells": [
  {
   "cell_type": "code",
   "execution_count": null,
   "id": "67e33f69-7797-43ee-ad59-cc7f97a2d7db",
   "metadata": {},
   "outputs": [],
   "source": [
    "'''\n",
    "Q-1>What are data structures, and why are they important?\n",
    "Sol:Python provides built-in support for several data structures, making it easy to organize and manipulate data efficiently.\n",
    "Properties :-\n",
    "Efficiency – Helps optimize the performance of algorithms by providing efficient ways to store and retrieve data.\n",
    "Better Data Management – Organizes data in a way that makes it easier to use and process.\n",
    "Scalability – Enables handling large amounts of data.\n",
    "Reusability – Many data structures can be reused in different applications.\n",
    "Enhancing Algorithm Performance – Choosing the right data structure can significantly impact the speed and efficiency of an algorithm.\n",
    "Types:\n",
    "Built-in Data Structures\n",
    "1.Lists \n",
    "A list is an ordered, mutable collection of elements. It allows duplicates and supports different data types.\n",
    "Example:\n",
    "\n",
    "list1 = [1, 2, 3, \"Sumit\", 3.5]\n",
    "print(list1[0])  \n",
    "list1.append(44)  \n",
    "list1.remove(3.5)  \n",
    "print(my_list[1:3])  \n",
    "\n",
    "B. Tuples \n",
    "A tuple is an immutable, ordered collection of elements. It is faster than a list and is often used when data should not change.\n",
    "\n",
    "\n",
    "tuple1 = (1, 2, 3, \"hello\",5.5)\n",
    "print(my_tuple[1])  \n",
    "my_tuple[1] = 10  # !!!error it will show\n",
    "\n",
    "C. Sets \n",
    "\n",
    "A set is an unordered collection of unique elements.\n",
    "\n",
    "set1 = {1, 2, 3, 4, 4, 5}  \n",
    "set1.add(6)\n",
    "set1.discard(3)\n",
    "print(set1)  \n",
    "\n",
    "D. Dictionaries \n",
    "A dictionary is an unordered collection of key-value pairs.\n",
    "\n",
    "dict1 = {\"name\": \"Sam\", \"age\": 25, \"city\": \"Itly\"}\n",
    "print(dict1[\"name\"])  \n",
    "my_dict[\"job\"] = \"Engineer\"\n",
    "del my_dict[\"age\"]\n",
    "print(my_dict)  \n",
    "\n",
    "2. User-Defined Data Structures\n",
    "\n",
    "Python also allows the creation of custom data structures.\n",
    "\n",
    "A. Stacks (LIFO - Last In, First Out)\n",
    "A stack follows the Last In, First Out (LIFO) principle. We can use a list or the collections.deque module.\n",
    "class Stack:\n",
    "    def __init__(self):\n",
    "        self.stack = []\n",
    "    \n",
    "    def push(self, item):\n",
    "        self.stack.append(item)\n",
    "    \n",
    "    def pop(self):\n",
    "        if not self.is_empty():\n",
    "            return self.stack.pop()\n",
    "        return \"Stack is empty\"\n",
    "    \n",
    "    def peek(self):\n",
    "        return self.stack[-1] if not self.is_empty() else \"Stack is empty\"\n",
    "    \n",
    "    def is_empty(self):\n",
    "        return len(self.stack) == 0\n",
    "\n",
    "s = Stack()\n",
    "s.push(10)\n",
    "s.push(20)\n",
    "print(s.pop())  \n",
    "\n",
    "B. Queues (FIFO - First In, First Out)\n",
    "A queue follows the First In, First Out (FIFO) principle. We can use collections.deque for efficient queue operations.\n",
    "\n",
    "from collections import deque\n",
    "\n",
    "class Queue:\n",
    "    def __init__(self):\n",
    "        self.queue = deque()\n",
    "    \n",
    "    def enqueue(self, item):\n",
    "        self.queue.append(item)\n",
    "    \n",
    "    def dequeue(self):\n",
    "        if not self.is_empty():\n",
    "            return self.queue.popleft()\n",
    "        return \"Queue is empty\"\n",
    "    \n",
    "    def is_empty(self):\n",
    "        return len(self.queue) == 0\n",
    "\n",
    "\n",
    "q = Queue()\n",
    "q.enqueue(1)\n",
    "q.enqueue(2)\n",
    "print(q.dequeue())  # Output: 1\n",
    "\n",
    "C. Linked List\n",
    "A linked list consists of nodes where each node contains data and a pointer to the next node.\n",
    "\n",
    "class Node:\n",
    "    def __init__(self, data):\n",
    "        self.data = data\n",
    "        self.next = None\n",
    "\n",
    "class LinkedList:\n",
    "    def __init__(self):\n",
    "        self.head = None\n",
    "\n",
    "    def append(self, data):\n",
    "        new_node = Node(data)\n",
    "        if not self.head:\n",
    "            self.head = new_node\n",
    "            return\n",
    "        temp = self.head\n",
    "        while temp.next:\n",
    "            temp = temp.next\n",
    "        temp.next = new_node\n",
    "\n",
    "    def display(self):\n",
    "        temp = self.head\n",
    "        while temp:\n",
    "            print(temp.data, end=\" -> \")\n",
    "            temp = temp.next\n",
    "        print(\"None\")\n",
    "ll = LinkedList()\n",
    "ll.append(10)\n",
    "ll.append(20)\n",
    "ll.append(30)\n",
    "ll.display()  \n",
    "\n",
    "D. Binary Tree\n",
    "A binary tree is a hierarchical structure where each node has at most two children (left and right).\n",
    "\n",
    "class TreeNode:\n",
    "    def __init__(self, value):\n",
    "        self.value = value\n",
    "        self.left = None\n",
    "        self.right = None\n",
    "\n",
    "    def insert(self, value):\n",
    "        if value < self.value:\n",
    "            if self.left is None:\n",
    "                self.left = TreeNode(value)\n",
    "            else:\n",
    "                self.left.insert(value)\n",
    "        else:\n",
    "            if self.right is None:\n",
    "                self.right = TreeNode(value)\n",
    "            else:\n",
    "                self.right.insert(value)\n",
    "\n",
    "    def inorder_traversal(self):\n",
    "        if self.left:\n",
    "            self.left.inorder_traversal()\n",
    "        print(self.value, end=\" \")\n",
    "        if self.right:\n",
    "            self.right.inorder_traversal()\n",
    "\n",
    "root = TreeNode(10)\n",
    "root.insert(5)\n",
    "root.insert(15)\n",
    "root.insert(2)\n",
    "root.inorder_traversal()  # Output: 2 5 10 15\n",
    "'''"
   ]
  },
  {
   "cell_type": "code",
   "execution_count": null,
   "id": "68e03e6f-12e1-40f2-b4d6-c02cf3aaf553",
   "metadata": {},
   "outputs": [],
   "source": [
    "'''\n",
    "Q-2>Explain the difference between mutable and immutable data types with examples ?\n",
    "Sol: Mutable objects can be changed.\n",
    "Immutable objects cannot be changed once they are created\n",
    "Ex:\n",
    "List,Dictionary are mutable:\n",
    "Tuple are immutable.\n",
    "Thread:\n",
    "Immutable objects are inherently thread-safe.\n",
    "Mutable objects can lead to unexpected bugs in multi-threaded programs.\n",
    "\n",
    "\n",
    "'''\n"
   ]
  },
  {
   "cell_type": "code",
   "execution_count": 3,
   "id": "f7cfc2cf-d868-4ce1-8d0d-f4c2fa2b65d3",
   "metadata": {},
   "outputs": [
    {
     "name": "stdout",
     "output_type": "stream",
     "text": [
      "2777233084416\n",
      "[1, 2, 3, 4]\n",
      "2777233084416\n"
     ]
    }
   ],
   "source": [
    "#List\n",
    "my_list = [1, 2, 3]\n",
    "print(id(my_list)) \n",
    "my_list.append(4)  \n",
    "print(my_list)   \n",
    "print(id(my_list))  "
   ]
  },
  {
   "cell_type": "code",
   "execution_count": 7,
   "id": "206ab988-b780-446a-9788-2b681e64c824",
   "metadata": {},
   "outputs": [
    {
     "name": "stdout",
     "output_type": "stream",
     "text": [
      "2777272982592\n",
      "{'name': 'Sam', 'age': 26}\n",
      "2777272982592\n"
     ]
    }
   ],
   "source": [
    "#Dictionary\n",
    "my_dict = {\"name\": \"Sam\", \"age\": 30}\n",
    "print(id(my_dict))\n",
    "my_dict[\"age\"] = 26  \n",
    "print(my_dict)  \n",
    "print(id(my_dict))  \n"
   ]
  },
  {
   "cell_type": "code",
   "execution_count": null,
   "id": "c0db6cd0-ce78-4beb-b2ba-45dd6b31913d",
   "metadata": {},
   "outputs": [],
   "source": [
    "'''\n",
    "Immutable Data Types:\n",
    "Examples:\n",
    "Integers (int)\n",
    "Floats (float)\n",
    "Strings (str)\n",
    "Tuples (tuple)\n",
    "Frozen sets (frozenset)\n",
    "Bytes (bytes)\n",
    "'''"
   ]
  },
  {
   "cell_type": "code",
   "execution_count": 9,
   "id": "49cc1e0e-612b-4c23-8729-6a8f66e0e42c",
   "metadata": {},
   "outputs": [
    {
     "name": "stdout",
     "output_type": "stream",
     "text": [
      "140731570268888\n",
      "11\n",
      "140731570268920\n"
     ]
    }
   ],
   "source": [
    "# Integer \n",
    "x = 10\n",
    "print(id(x))  \n",
    "x = x + 1 \n",
    "print(x)  \n",
    "print(id(x))  \n"
   ]
  },
  {
   "cell_type": "code",
   "execution_count": 11,
   "id": "3d128614-fab7-4215-b68a-bed8f6adcb17",
   "metadata": {},
   "outputs": [
    {
     "name": "stdout",
     "output_type": "stream",
     "text": [
      "2777233094896\n",
      "hello World I am Python\n",
      "2777233091568\n"
     ]
    }
   ],
   "source": [
    "# String \n",
    "s = \"hello World\"\n",
    "print(id(s))  \n",
    "s = s + \" I am Python\"  \n",
    "print(s)  \n",
    "print(id(s))  \n"
   ]
  },
  {
   "cell_type": "code",
   "execution_count": 13,
   "id": "18ac07c0-7291-4118-b8ed-7b2d42ec4a85",
   "metadata": {},
   "outputs": [
    {
     "name": "stdout",
     "output_type": "stream",
     "text": [
      "2777232925344\n",
      "(1, 2, 3, 4, 5, 4, 5)\n",
      "2777272575040\n"
     ]
    }
   ],
   "source": [
    "# Tuple \n",
    "tup1 = (1, 2, 3, 4, 5)\n",
    "print(id(tup1))  \n",
    "tup1 = tup1 + (4, 5)  \n",
    "print(tup1)  \n",
    "print(id(tup1))  \n"
   ]
  },
  {
   "cell_type": "code",
   "execution_count": null,
   "id": "6f1426a2-65fa-4127-a2d8-c09c53021918",
   "metadata": {},
   "outputs": [],
   "source": [
    "'''\n",
    "Q-3>What are the main differences between lists and tuples in Python3\n",
    "sol:-\n",
    "List :\n",
    "1.Mutable (can be modified)\n",
    "2.Created using []\n",
    "3.Slower due to mutability\n",
    "4.Uses more memory\n",
    "5.Slower (due to dynamic size)\n",
    "6.Can add, remove, or update elements\n",
    "7.Has methods like .append(), .remove(), .pop()\n",
    "8.Not hashable\n",
    "\n",
    "Tuple:\n",
    "1.Immutable (cannot be modified)\n",
    "2.Created using ()\n",
    "3.Faster due to immutability\n",
    "4.Uses less memory\n",
    "5.Faster (fixed size)\n",
    "6.Cannot be changed after creation\n",
    "7.Methods .count() and .index()\n",
    "8.Hashable\n"
   ]
  },
  {
   "cell_type": "code",
   "execution_count": null,
   "id": "fa10af7f-0f6b-4e1d-9209-98ae87c58496",
   "metadata": {},
   "outputs": [],
   "source": [
    "'''\n",
    "Q-4> Describe how dictionaries store data ?\n",
    "sol:-\n",
    "Keys (immutable types like strings, numbers, or tuples)\n",
    "Values (any data type)\n",
    "\n",
    "Dictionary Performance:\n",
    "\n",
    "Average Case: O(1) (fast lookups, insertions, deletions)\n",
    "Worst Case: O(n) (when many collisions occur)\n",
    "\n",
    "'''"
   ]
  },
  {
   "cell_type": "code",
   "execution_count": 15,
   "id": "2d517512-d9b5-48d1-b174-b02c4c0d1ad3",
   "metadata": {},
   "outputs": [
    {
     "data": {
      "text/plain": [
       "{'name': 'Dev', 'age': 43, 'city': 'Delhi'}"
      ]
     },
     "execution_count": 15,
     "metadata": {},
     "output_type": "execute_result"
    }
   ],
   "source": [
    "my_dict = {\"name\": \"Dev\", \"age\": 43, \"city\": \"Delhi\"}\n",
    "my_dict\n"
   ]
  },
  {
   "cell_type": "code",
   "execution_count": 17,
   "id": "764a857f-2795-494e-a213-a545c5b0d4b2",
   "metadata": {},
   "outputs": [
    {
     "name": "stdout",
     "output_type": "stream",
     "text": [
      "5871160261929396366\n"
     ]
    }
   ],
   "source": [
    "print(hash(\"name\"))  \n"
   ]
  },
  {
   "cell_type": "code",
   "execution_count": 21,
   "id": "9c41ff0e-83a6-4e1e-9e3f-e90d2fd0b5eb",
   "metadata": {},
   "outputs": [
    {
     "data": {
      "text/plain": [
       "{1: 'one', 2: 'two'}"
      ]
     },
     "execution_count": 21,
     "metadata": {},
     "output_type": "execute_result"
    }
   ],
   "source": [
    "d = {}\n",
    "d[1] = \"one\"\n",
    "d[2] = \"two\"\n",
    "d\n"
   ]
  },
  {
   "cell_type": "code",
   "execution_count": null,
   "id": "557fe214-3c95-435b-a560-372b18286dbc",
   "metadata": {},
   "outputs": [],
   "source": [
    "'''\n",
    "Q-5> Why might you use a set instead of a list in Python3?\n",
    "sol:- A set and a list are both used to store collections of elements.\n",
    "'''"
   ]
  },
  {
   "cell_type": "code",
   "execution_count": 23,
   "id": "61e42b46-8554-4680-aa83-6041f7899ad3",
   "metadata": {},
   "outputs": [
    {
     "name": "stdout",
     "output_type": "stream",
     "text": [
      "{1, 2, 3, 4, 5}\n"
     ]
    }
   ],
   "source": [
    "my_list = [1, 2, 2, 3, 4, 4, 5]\n",
    "set1 = set(my_list)  \n",
    "print(set1)  \n"
   ]
  },
  {
   "cell_type": "code",
   "execution_count": 25,
   "id": "3a446f23-b772-4bd5-9e34-c05d0c45722f",
   "metadata": {},
   "outputs": [
    {
     "name": "stdout",
     "output_type": "stream",
     "text": [
      "True\n",
      "True\n"
     ]
    }
   ],
   "source": [
    "my_list = [1, 2, 3, 4, 5]\n",
    "my_set = {1, 2, 3, 4, 5}\n",
    "print(3 in my_list)  \n",
    "print(3 in my_set)   \n"
   ]
  },
  {
   "cell_type": "code",
   "execution_count": 27,
   "id": "1c3f1174-5d0d-44e5-846d-feecf3feee6f",
   "metadata": {},
   "outputs": [
    {
     "name": "stdout",
     "output_type": "stream",
     "text": [
      "{1, 2, 3, 4, 5, 6}\n",
      "{3, 4}\n",
      "{1, 2}\n"
     ]
    }
   ],
   "source": [
    "set1 = {1, 2, 3, 4}\n",
    "set2 = {3, 4, 5, 6}\n",
    "print(set1 | set2)  \n",
    "print(set1 & set2)  \n",
    "print(set1 - set2) \n"
   ]
  },
  {
   "cell_type": "code",
   "execution_count": null,
   "id": "d637a36b-4d5d-453d-b445-89158d6df2be",
   "metadata": {},
   "outputs": [],
   "source": [
    "'''\n",
    "Q-6> What is a string in Python, and how is it different from a list?\n",
    "sol:-\n",
    "String :\n",
    "1.Immutable\n",
    "2.Characters\n",
    "3.Modification is not allowed\n",
    "4.Can iterate character by character\n",
    "List :\n",
    "1.Mutable \n",
    "2.Any data type\n",
    "3.Modification is Allowed\n",
    "4.Can iterate element by element\n",
    "'''"
   ]
  },
  {
   "cell_type": "code",
   "execution_count": null,
   "id": "a23ae2c9-63e2-48ec-a8eb-dba4bda96908",
   "metadata": {},
   "outputs": [],
   "source": [
    "'''\n",
    "Q-7>How do tuples ensure data integrity in Python?\n",
    "sol:-\n",
    "A tuple is an immutable sequence in Python, meaning once it is created, it cannot be modified (no adding, removing, or changing elements). \n",
    "This immutability ensures data integrity by preventing unintended modifications.\n",
    "'''"
   ]
  },
  {
   "cell_type": "code",
   "execution_count": 29,
   "id": "8491ab80-d7d4-4ad9-8d93-9ce5068cf693",
   "metadata": {},
   "outputs": [
    {
     "data": {
      "text/plain": [
       "(10.5, 20.3)"
      ]
     },
     "execution_count": 29,
     "metadata": {},
     "output_type": "execute_result"
    }
   ],
   "source": [
    "coordinates = (10.5, 20.3)  \n",
    "coordinates"
   ]
  },
  {
   "cell_type": "code",
   "execution_count": 37,
   "id": "065a0ffe-b684-4d24-b013-7b11da8093ec",
   "metadata": {},
   "outputs": [
    {
     "name": "stdout",
     "output_type": "stream",
     "text": [
      "Paris\n"
     ]
    }
   ],
   "source": [
    "data = { (40.7143, -74.0360): \"Paris\",(51.5467, -0.129089): \"America\"}\n",
    "print(data[(40.7143, -74.0360)])  \n"
   ]
  },
  {
   "cell_type": "code",
   "execution_count": 35,
   "id": "4bd260fc-9199-48d2-b773-86cba3162ab3",
   "metadata": {},
   "outputs": [
    {
     "data": {
      "text/plain": [
       "('localhost', 5432, 'admin', 'password')"
      ]
     },
     "execution_count": 35,
     "metadata": {},
     "output_type": "execute_result"
    }
   ],
   "source": [
    "DB_CONFIG = (\"localhost\", 5432, \"admin\", \"password\")\n",
    "DB_CONFIG\n"
   ]
  },
  {
   "cell_type": "code",
   "execution_count": null,
   "id": "55948546-e574-4c39-8708-135b9cd9b2da",
   "metadata": {},
   "outputs": [],
   "source": [
    "'''\n",
    "Q-8> What is a hash table, and how does it relate to dictionaries in Python?\n",
    "sol:-A hash table (or hash map) is a data structure that stores key-value pairs and allows fast data retrieval using a hash function. \n",
    "It efficiently maps keys to values using an array and hashing technique, ensuring constant-time (O(1)) lookup, insertion, and deletion in most cases.\n",
    "'''"
   ]
  },
  {
   "cell_type": "code",
   "execution_count": 37,
   "id": "c8faaf9d-b1b7-49d7-bc24-032e03eb4ff2",
   "metadata": {},
   "outputs": [
    {
     "name": "stdout",
     "output_type": "stream",
     "text": [
      "Alice\n"
     ]
    }
   ],
   "source": [
    "\n",
    "my_dict = {\"name\": \"Alice\", \"age\": 25, \"city\": \"New York\"}\n",
    "# complexicity is Fast  (O(1)) complexicity\n",
    "print(my_dict[\"name\"])  \n",
    "#Insertion (O(1))\n",
    "my_dict[\"job\"] = \"Engineer\"\n",
    "# Deletion (O(1))\n",
    "del my_dict[\"age\"]\n"
   ]
  },
  {
   "cell_type": "code",
   "execution_count": 1,
   "id": "b4d45f4d-ae7c-4ca8-acb0-53285128493f",
   "metadata": {},
   "outputs": [
    {
     "name": "stdout",
     "output_type": "stream",
     "text": [
      "[7, 'python', 9.14, True, [1, 2, 3, 4, 5], {'US': 'dollar'}, (45, 77)]\n"
     ]
    }
   ],
   "source": [
    "'''\n",
    "Q-9> Can lists contain different data types in Python?\n",
    "sol:-\n",
    "Yes, in Python, lists can contain different data types.\n",
    "ex:\n",
    "'''\n",
    "list1 = [7, \"python\", 9.14, True, [1, 2, 3, 4, 5], {\"US\": \"dollar\"}, (45, 77)]\n",
    "print(list1)\n"
   ]
  },
  {
   "cell_type": "code",
   "execution_count": 5,
   "id": "33dd3cc5-a70f-4c83-8623-b4e969c9a1b9",
   "metadata": {},
   "outputs": [
    {
     "ename": "TypeError",
     "evalue": "'str' object does not support item assignment",
     "output_type": "error",
     "traceback": [
      "\u001b[1;31m---------------------------------------------------------------------------\u001b[0m",
      "\u001b[1;31mTypeError\u001b[0m                                 Traceback (most recent call last)",
      "Cell \u001b[1;32mIn[5], line 12\u001b[0m\n\u001b[0;32m      1\u001b[0m \u001b[38;5;124;03m'''\u001b[39;00m\n\u001b[0;32m      2\u001b[0m \u001b[38;5;124;03mQ-10>Explain why strings are immutable in Python?\u001b[39;00m\n\u001b[0;32m      3\u001b[0m \u001b[38;5;124;03msol:-\u001b[39;00m\n\u001b[1;32m   (...)\u001b[0m\n\u001b[0;32m      9\u001b[0m \u001b[38;5;124;03meg:\u001b[39;00m\n\u001b[0;32m     10\u001b[0m \u001b[38;5;124;03m'''\u001b[39;00m\n\u001b[0;32m     11\u001b[0m s \u001b[38;5;241m=\u001b[39m \u001b[38;5;124m\"\u001b[39m\u001b[38;5;124mPython \u001b[39m\u001b[38;5;124m\"\u001b[39m\n\u001b[1;32m---> 12\u001b[0m s[\u001b[38;5;241m0\u001b[39m] \u001b[38;5;241m=\u001b[39m \u001b[38;5;124m\"\u001b[39m\u001b[38;5;124mp\u001b[39m\u001b[38;5;124m\"\u001b[39m\n",
      "\u001b[1;31mTypeError\u001b[0m: 'str' object does not support item assignment"
     ]
    }
   ],
   "source": [
    "'''\n",
    "Q-10>Explain why strings are immutable in Python?\n",
    "sol:-\n",
    "Its means that once a string is created, it cannot be changed.\n",
    "Advantages:\n",
    "1.Memory Efficiency\n",
    "2.String Interning & Caching\n",
    "3.Security & Predictability\n",
    "eg:\n",
    "'''\n",
    "s = \"Python is a good language \"\n",
    "s[0] = \"p\"  \n",
    "# it will raise an error\n"
   ]
  },
  {
   "cell_type": "code",
   "execution_count": 7,
   "id": "aef5258d-c850-4f2e-a4de-41b571430992",
   "metadata": {},
   "outputs": [
    {
     "name": "stdout",
     "output_type": "stream",
     "text": [
      "Bob\n"
     ]
    }
   ],
   "source": [
    "'''\n",
    "Q-11> What advantages do dictionaries offer over lists for certain tasks?\n",
    "sol:-\n",
    "Dictionaries offer several advantages over lists.\n",
    "1.Fast Lookups \n",
    "2.Key-Based Access\n",
    "3.Efficient Data Organization\n",
    "4.Flexibility\n",
    "5.Easier Data Modification\n",
    "6.Avoiding Duplicates keys \n",
    "ex\n",
    "'''\n",
    "Emp = {\"name\": \"Bob\", \"age\": 22, \"Dept\": \"Automation\"}\n",
    "print(Emp[\"name\"])  \n"
   ]
  },
  {
   "cell_type": "code",
   "execution_count": null,
   "id": "3062dd61-ffca-4f71-b933-353476e73181",
   "metadata": {},
   "outputs": [],
   "source": [
    "'''\n",
    "Q-12> Describe a scenario where using a tuple would be preferable over a list?\n",
    "sol:-\n",
    "A tuple would be preferable over a list where immutability, performance,data integrity,Hashability are important.\n",
    "'''\n"
   ]
  },
  {
   "cell_type": "code",
   "execution_count": 9,
   "id": "57f9cee8-132b-4d8d-b272-bbd2beab3789",
   "metadata": {},
   "outputs": [
    {
     "name": "stdout",
     "output_type": "stream",
     "text": [
      "{1, 2, 3, 4, 5, 6, 7, 8}\n"
     ]
    }
   ],
   "source": [
    "'''\n",
    "Q-13> How do sets handle duplicate values in Python?\n",
    "sol:- \n",
    "Sets automatically removes duplicate values because they are unordered collections of unique elements.\n",
    "ex:\n",
    "'''\n",
    "Set1 = {1, 2, 3, 3, 4, 4, 5, 6, 7, 6, 8}\n",
    "print(Set1)  \n",
    "\n"
   ]
  },
  {
   "cell_type": "code",
   "execution_count": 11,
   "id": "4cf3f833-d617-400f-b930-e4c01f9ec310",
   "metadata": {},
   "outputs": [
    {
     "name": "stdout",
     "output_type": "stream",
     "text": [
      "{10, 20, 30}\n"
     ]
    }
   ],
   "source": [
    "#Trying to add a duplicate\n",
    "set1 = {10, 20, 30}\n",
    "set1.add(20)  \n",
    "print(set1)  \n"
   ]
  },
  {
   "cell_type": "code",
   "execution_count": 13,
   "id": "0bdf4c8a-2424-4733-958a-eed67fc63177",
   "metadata": {},
   "outputs": [
    {
     "name": "stdout",
     "output_type": "stream",
     "text": [
      "True\n",
      "False\n"
     ]
    }
   ],
   "source": [
    "'''\n",
    "Q-14>  How does the “in” keyword work differently for lists and dictionaries?\n",
    "sol:-\n",
    "As it is used to check for membership in a collection, but it behaves differently for lists and dictionaries due to their data structures.\n",
    "in Keyword with Lists\n",
    "ex:\n",
    "'''\n",
    "list1 = [10, 20, 30, 40]\n",
    "print(20 in list1)  \n",
    "print(50 in list1)  \n",
    "\n"
   ]
  },
  {
   "cell_type": "code",
   "execution_count": 15,
   "id": "258382f1-3f17-448b-bca7-4e47ee9ad16e",
   "metadata": {},
   "outputs": [
    {
     "name": "stdout",
     "output_type": "stream",
     "text": [
      "True\n",
      "False\n"
     ]
    }
   ],
   "source": [
    "'''\n",
    "in Keyword with Dictionaries:\n",
    "the 'in' keyword checks if a key exists, not a value.\n",
    "ex:-\n",
    "'''\n",
    "dict1 = {\"name\": \"bob\", \"age\": 25, \"city\": \"Paris\"}\n",
    "print(\"age\" in dict1)  \n",
    "print(\"bob\" in dict1)  \n"
   ]
  },
  {
   "cell_type": "code",
   "execution_count": 17,
   "id": "705df060-83a8-4360-9cbe-f2ed446124b7",
   "metadata": {},
   "outputs": [
    {
     "ename": "TypeError",
     "evalue": "'tuple' object does not support item assignment",
     "output_type": "error",
     "traceback": [
      "\u001b[1;31m---------------------------------------------------------------------------\u001b[0m",
      "\u001b[1;31mTypeError\u001b[0m                                 Traceback (most recent call last)",
      "Cell \u001b[1;32mIn[17], line 12\u001b[0m\n\u001b[0;32m     10\u001b[0m \u001b[38;5;66;03m#Trying to modify the elements in tuple which will raise an error\u001b[39;00m\n\u001b[0;32m     11\u001b[0m my_tuple \u001b[38;5;241m=\u001b[39m (\u001b[38;5;241m1\u001b[39m, \u001b[38;5;241m2\u001b[39m, \u001b[38;5;241m3\u001b[39m)\n\u001b[1;32m---> 12\u001b[0m my_tuple[\u001b[38;5;241m0\u001b[39m] \u001b[38;5;241m=\u001b[39m \u001b[38;5;241m22\u001b[39m\n",
      "\u001b[1;31mTypeError\u001b[0m: 'tuple' object does not support item assignment"
     ]
    }
   ],
   "source": [
    "'''\n",
    "Q-15> Can you modify the elements of a tuple? Explain why or why not ?\n",
    "sol:-\n",
    "No we can't able to modify the elements in tuple because tuples are immutable and that is why we achive some reliblity they are:-\n",
    "1.Memory Efficiency \n",
    "2.Hashability\n",
    "3.Data Integrity\n",
    "ex:-\n",
    "'''\n",
    "#Trying to modify the elements in tuple which will raise an error\n",
    "my_tuple = (1, 2, 3)\n",
    "my_tuple[0] = 22 \n"
   ]
  },
  {
   "cell_type": "code",
   "execution_count": 19,
   "id": "5f1f9571-226d-4498-ae9d-d45268094ded",
   "metadata": {},
   "outputs": [
    {
     "name": "stdout",
     "output_type": "stream",
     "text": [
      "(1, [2, 3, 5], 4)\n"
     ]
    }
   ],
   "source": [
    "#tuple structure remains unchanged but the list inside the tuple is modified\n",
    "tuple1 = (1, [2, 3], 4)\n",
    "tuple1[1].append(5) \n",
    "print(tuple1)  \n"
   ]
  },
  {
   "cell_type": "code",
   "execution_count": 23,
   "id": "dc9e9d2f-935f-4e5f-b0ca-80e95ba463c6",
   "metadata": {},
   "outputs": [
    {
     "name": "stdout",
     "output_type": "stream",
     "text": [
      "Bob\n",
      "['Robonotics']\n",
      "28\n"
     ]
    }
   ],
   "source": [
    "'''\n",
    "Q-16> What is a nested dictionary, and give an example of its use case?\n",
    "sol:-\n",
    "A nested dictionary is a dictionary inside another dictionary.\n",
    "ex:-\n",
    "1.Database-like Storage\n",
    "2.Configuration Settings\n",
    "3.JSON-like Data Representation \n",
    "'''\n",
    "#Use Case: Storing Employees Records:-\n",
    "Emp = {\n",
    "    \"2234\": {\"name\": \"Jenifer\", \"age\": 28, \"Dept\": [\"Robonotics\"]},\n",
    "    \"5643\": {\"name\": \"Bob\", \"age\": 32, \"Dept\": [\"Nerual-Technology\"]},\n",
    "    \"1090\": {\"name\": \"Samuel\", \"age\": 41, \"Dept\": [\"Nano-Technology\"]}\n",
    "}\n",
    "print(Emp[\"5643\"][\"name\"]) \n",
    "print(Emp[\"2234\"][\"Dept\"])  \n",
    "print(Emp[\"2234\"][\"age\"])"
   ]
  },
  {
   "cell_type": "code",
   "execution_count": null,
   "id": "6b39ae5e-bbc8-420f-8032-38dde023552f",
   "metadata": {},
   "outputs": [],
   "source": [
    "'''\n",
    "Q-17> Describe the time complexity of accessing elements in a dictionary ?\n",
    "sol:-\n",
    "Acessing the elements in dictionary ,the average-case time complexity O(1) and the worst case is O(n) .\n",
    "'''\n",
    "\n"
   ]
  },
  {
   "cell_type": "code",
   "execution_count": null,
   "id": "26b1dfa0-7c77-4078-99de-1c1b610d7e02",
   "metadata": {},
   "outputs": [],
   "source": [
    "'''\n",
    "Q-18> In what situations are lists preferred over dictionaries?\n",
    "sol:-\n",
    "Lists and dictionaries are both usefull for acessing the data, but the way of acessing the data in both the case are different .\n",
    "As per the list prefered over dictionaries due to different ways:\n",
    "1.Maintaining Order\n",
    "2.Sequential Access and Iteration\n",
    "3. Fast Data acessing\n",
    "4.Simplicity and Readability\n",
    "5.Index-Based Access\n",
    "6.Space Efficiency\n",
    "'''"
   ]
  },
  {
   "cell_type": "code",
   "execution_count": null,
   "id": "6c34b98d-fa62-465d-8f57-ce8a40af98d6",
   "metadata": {},
   "outputs": [],
   "source": [
    "'''\n",
    "Q-19> Why are dictionaries considered unordered, and how does that affect data retrieval?\n",
    "sol:-\n",
    "It is considered unordered because their internal structure is based on hash tables as iteration over a dictionary could return elements \n",
    "in an arbitrary order.The retrieval order was not guaranteed to match insertion order.Hashing is constant time (O(1)) for dictionary.\n",
    "'''"
   ]
  },
  {
   "cell_type": "code",
   "execution_count": null,
   "id": "81f59dd7-2679-4842-acc6-14f64fff2d94",
   "metadata": {},
   "outputs": [],
   "source": [
    "'''\n",
    "Q-20> Explain the difference between a list and a dictionary in terms of data retrieval?\n",
    "sol:-\n",
    "List :\n",
    "1.Index-based acessing\n",
    "2.Searching of data based on Direct index lookup (O(1)) or sequential search (O(n))\n",
    "3.Structure is Contiguous memory array.\n",
    "Dictionary:\n",
    "1.Key-based acessing\n",
    "2.Searching of data based on Hash table lookup (O(1))\n",
    "3.Structure is Hash table (key-value storage).\n",
    "Retrieval Time Complexity:\n",
    "List: O(1) (direct memory access) and acessing of data using conditions is O(n).\n",
    "Dictionary:  hash table lookup and acessing of data using conditions is O(1) .\n",
    "'''"
   ]
  },
  {
   "cell_type": "code",
   "execution_count": null,
   "id": "ed561d49-55d1-4170-b5b5-b0e7b6e27e42",
   "metadata": {},
   "outputs": [],
   "source": [
    "#----------------------------------------------------- Practical Questions ---------------------------------------------"
   ]
  },
  {
   "cell_type": "code",
   "execution_count": 1,
   "id": "a9e25790-8679-4c14-a76f-42b1ffa448b3",
   "metadata": {},
   "outputs": [
    {
     "name": "stdout",
     "output_type": "stream",
     "text": [
      "Sumit Kumar Roy\n"
     ]
    }
   ],
   "source": [
    "'''\n",
    "Q-1>  Write a code to create a string with your name and print it?\n",
    "sol:-\n",
    "'''\n",
    "my_name = \"Sumit Kumar Roy\"\n",
    "print(my_name)\n"
   ]
  },
  {
   "cell_type": "code",
   "execution_count": 3,
   "id": "00f0c534-78a5-4c3c-ab16-2d7925876d49",
   "metadata": {},
   "outputs": [
    {
     "name": "stdout",
     "output_type": "stream",
     "text": [
      "11  : is the length of the string\n"
     ]
    }
   ],
   "source": [
    "'''\n",
    "Q-2> P Write a code to find the length of the string \"Hello World\"?\n",
    "Sol:-\n",
    "'''\n",
    "length_of_text = \"Hello World\"\n",
    "length = len(length_of_text)\n",
    "print(length, \" : is the length of the string\")\n"
   ]
  },
  {
   "cell_type": "code",
   "execution_count": 7,
   "id": "b9ad3e96-b176-4648-a1a1-bc4c9b016b6b",
   "metadata": {},
   "outputs": [
    {
     "name": "stdout",
     "output_type": "stream",
     "text": [
      "Pyt\n"
     ]
    }
   ],
   "source": [
    "'''\n",
    "Q-3> Write a code to slice the first 3 characters from the string \"Python Programming\"?\n",
    "sol:-\n",
    "'''\n",
    "statement = \"Python Programming\"\n",
    "t = statement[:3]  \n",
    "print(t)\n"
   ]
  },
  {
   "cell_type": "code",
   "execution_count": 9,
   "id": "b07bb202-5dea-499d-ad3c-bfd694102307",
   "metadata": {},
   "outputs": [
    {
     "name": "stdout",
     "output_type": "stream",
     "text": [
      "HELLO\n"
     ]
    }
   ],
   "source": [
    "'''\n",
    "Q-4> Write a code to convert the string \"hello\" to uppercase ?\n",
    "sol:-\n",
    "'''\n",
    "# using upper() method\n",
    "t= \"hello\"\n",
    "upper_text = t.upper()  \n",
    "print(upper_text)\n"
   ]
  },
  {
   "cell_type": "code",
   "execution_count": 11,
   "id": "893878ee-2156-47fa-851f-fc8d4f3e9cec",
   "metadata": {},
   "outputs": [
    {
     "name": "stdout",
     "output_type": "stream",
     "text": [
      "HELLO\n"
     ]
    }
   ],
   "source": [
    "# without using upper() method\n",
    "t=\"hello\"\n",
    "upper_text = \"\"\n",
    "for char in t:\n",
    "    upper_text += chr(ord(char) - 32)  \n",
    "print(upper_text)\n"
   ]
  },
  {
   "cell_type": "code",
   "execution_count": 15,
   "id": "cb27460e-2ee2-4927-a8f9-eed28ec3f55a",
   "metadata": {},
   "outputs": [
    {
     "name": "stdout",
     "output_type": "stream",
     "text": [
      "I like apple\n",
      "--------------------After replacing the apple with orange------------------\n",
      "I like orange\n"
     ]
    }
   ],
   "source": [
    "'''\n",
    "Q-5>  Write a code to replace the word \"apple\" with \"orange\" in the string \"I like apple\"?\n",
    "sol:-\n",
    "'''\n",
    "t=\"I like apple\"\n",
    "print(t)\n",
    "print(\"--------------------After replacing the apple with orange------------------\")\n",
    "f = t.replace(\"apple\", \"orange\")  \n",
    "print(f)\n"
   ]
  },
  {
   "cell_type": "code",
   "execution_count": 17,
   "id": "78cde721-1d3f-4762-9cc7-0de7c0756e5a",
   "metadata": {},
   "outputs": [
    {
     "name": "stdout",
     "output_type": "stream",
     "text": [
      "[1, 2, 3, 4, 5]\n"
     ]
    }
   ],
   "source": [
    "'''\n",
    "Q-6> Write a code to create a list with numbers 1 to 5 and print it ?\n",
    "sol:-\n",
    "'''\n",
    "list_of_numbers = [1, 2, 3, 4, 5]\n",
    "print(list_of_numbers)\n"
   ]
  },
  {
   "cell_type": "code",
   "execution_count": 19,
   "id": "1a1a9905-312d-4673-a4f1-45193a087d19",
   "metadata": {},
   "outputs": [
    {
     "name": "stdout",
     "output_type": "stream",
     "text": [
      "1\n",
      "2\n",
      "3\n",
      "4\n",
      "5\n"
     ]
    }
   ],
   "source": [
    "# using for loop\n",
    "list_of_numbers = [1, 2, 3, 4, 5]\n",
    "for i in list_of_numbers:\n",
    "    print(i)"
   ]
  },
  {
   "cell_type": "code",
   "execution_count": 27,
   "id": "f432f2c2-7eff-418c-b5db-5d926e05016c",
   "metadata": {},
   "outputs": [
    {
     "name": "stdout",
     "output_type": "stream",
     "text": [
      "[1, 2, 3, 4, 10]\n"
     ]
    }
   ],
   "source": [
    "'''\n",
    "Q-7> Write a code to append the number 10 to the list [1, 2, 3, 4] ?\n",
    "sol:-\n",
    "'''\n",
    "list1= [1, 2, 3, 4]\n",
    "list1.append(10)  \n",
    "print(list1)\n"
   ]
  },
  {
   "cell_type": "code",
   "execution_count": 29,
   "id": "2bf1eb21-f1f9-49d7-be51-24a5a6d77154",
   "metadata": {},
   "outputs": [
    {
     "name": "stdout",
     "output_type": "stream",
     "text": [
      "[1, 2, 4, 5]\n"
     ]
    }
   ],
   "source": [
    "'''\n",
    "Q-8> Write a code to remove the number 3 from the list [1, 2, 3, 4, 5] ?\n",
    "sol:-\n",
    "'''\n",
    "list1 = [1, 2, 3, 4, 5]\n",
    "list1.remove(3)  \n",
    "print(list1)\n"
   ]
  },
  {
   "cell_type": "code",
   "execution_count": 31,
   "id": "4d2cde38-dad2-4ae6-bffb-069a5f8d4752",
   "metadata": {},
   "outputs": [
    {
     "name": "stdout",
     "output_type": "stream",
     "text": [
      "b\n"
     ]
    }
   ],
   "source": [
    "'''\n",
    "Q-9> Write a code to access the second element in the list ['a', 'b', 'c', 'd']?\n",
    "sol:-\n",
    "'''\n",
    "l = ['a', 'b', 'c', 'd']\n",
    "second_element_access = l[1]  \n",
    "print(second_element_access)\n"
   ]
  },
  {
   "cell_type": "code",
   "execution_count": 33,
   "id": "da526e78-c7a9-4507-a108-7bc0cd64fd19",
   "metadata": {},
   "outputs": [
    {
     "name": "stdout",
     "output_type": "stream",
     "text": [
      "[50, 40, 30, 20, 10]\n"
     ]
    }
   ],
   "source": [
    "'''\n",
    "Q-10>  Write a code to reverse the list [10, 20, 30, 40, 50] ?\n",
    "sol:-\n",
    "'''\n",
    "numbers = [10, 20, 30, 40, 50]\n",
    "numbers.reverse()  \n",
    "print(numbers)\n"
   ]
  },
  {
   "cell_type": "code",
   "execution_count": 35,
   "id": "8fd08a47-c0f4-4801-b8c7-6c5af461d259",
   "metadata": {},
   "outputs": [
    {
     "name": "stdout",
     "output_type": "stream",
     "text": [
      "[50, 40, 30, 20, 10]\n"
     ]
    }
   ],
   "source": [
    "# with using sclicing\n",
    "numbers = [10, 20, 30, 40, 50]\n",
    "rev = numbers[::-1]  \n",
    "print(rev)\n"
   ]
  },
  {
   "cell_type": "code",
   "execution_count": 41,
   "id": "97ba5007-32e7-4bfb-8ebf-990e3d545feb",
   "metadata": {},
   "outputs": [
    {
     "name": "stdout",
     "output_type": "stream",
     "text": [
      "(1, 2, 3, 4, 5, 6, 'Sumit', -2345, 0.987)\n"
     ]
    }
   ],
   "source": [
    "'''\n",
    "Q-11> Write a code to create a tuple with the elements 100, 200, 300 and print it >\n",
    "sol:-\n",
    "'''\n",
    "tuple1 = (1, 2, 3, 4, 5, 6,\"Sumit\", -2345, 0.987)  \n",
    "print(tuple1)\n"
   ]
  },
  {
   "cell_type": "code",
   "execution_count": 1,
   "id": "b5156f8e-ec5f-4bbd-8fa2-96b3a3a819f3",
   "metadata": {},
   "outputs": [
    {
     "name": "stdout",
     "output_type": "stream",
     "text": [
      "blue\n"
     ]
    }
   ],
   "source": [
    "'''\n",
    "Q-12>  Write a code to access the second-to-last element of the tuple ('red', 'green', 'blue', 'yellow') ?\n",
    "sol:-\n",
    "'''\n",
    "colors = ('red', 'green', 'blue', 'yellow')\n",
    "d = colors[-2]\n",
    "print(d)\n"
   ]
  },
  {
   "cell_type": "code",
   "execution_count": 5,
   "id": "e6b28da2-3ccd-47ad-ba13-bdff1db3ba83",
   "metadata": {},
   "outputs": [
    {
     "name": "stdout",
     "output_type": "stream",
     "text": [
      "5\n"
     ]
    }
   ],
   "source": [
    "'''\n",
    "Q-13> Write a code to find the minimum number in the tuple (10, 20, 5, 15) ?\n",
    "sol:- \n",
    "'''\n",
    "# using min() \n",
    "num = (10, 20, 5, 15)\n",
    "n = min(num)\n",
    "print(n)\n"
   ]
  },
  {
   "cell_type": "code",
   "execution_count": 7,
   "id": "e4341298-e398-48df-999f-ba50064e0d8e",
   "metadata": {},
   "outputs": [
    {
     "name": "stdout",
     "output_type": "stream",
     "text": [
      "5\n"
     ]
    }
   ],
   "source": [
    "# without using min()\n",
    "num = (10, 20, 5, 15)\n",
    "n = num[0]\n",
    "for i in num:\n",
    "    if i < n:\n",
    "        n=i\n",
    "print(n)\n"
   ]
  },
  {
   "cell_type": "code",
   "execution_count": 9,
   "id": "9524670b-7adf-477f-a999-1462fead4ac2",
   "metadata": {},
   "outputs": [
    {
     "name": "stdout",
     "output_type": "stream",
     "text": [
      "1\n"
     ]
    }
   ],
   "source": [
    "'''\n",
    "Q-14> Write a code to find the index of the element \"cat\" in the tuple ('dog', 'cat', 'rabbit') ?\n",
    "sol:-\n",
    "'''\n",
    "animals = ('dog', 'cat', 'rabbit')\n",
    "r = animals.index('cat')\n",
    "print(r)\n"
   ]
  },
  {
   "cell_type": "code",
   "execution_count": 15,
   "id": "2bef960c-3ec3-444e-83ee-352e3084dd6e",
   "metadata": {},
   "outputs": [
    {
     "name": "stdout",
     "output_type": "stream",
     "text": [
      "Kiwi is not present in tuple.\n"
     ]
    }
   ],
   "source": [
    "'''\n",
    "Q-15>  Write a code to create a tuple containing three different fruits and check if \"kiwi\" is in it ?\n",
    "sol:-\n",
    "'''\n",
    "fruits = ('apple', 'banana', 'orange', 'grapes', 'dragon-fruit')\n",
    "if 'kiwi' in fruits:\n",
    "    print(\"Kiwi is present in tuple.\")\n",
    "else:\n",
    "    print(\"Kiwi is not present in tuple.\")"
   ]
  },
  {
   "cell_type": "code",
   "execution_count": 24,
   "id": "6803923b-cea7-4398-8fce-246aafa6838f",
   "metadata": {},
   "outputs": [
    {
     "name": "stdout",
     "output_type": "stream",
     "text": [
      "{'b', 'c', 'a'}\n"
     ]
    }
   ],
   "source": [
    "'''\n",
    "Q-16>  Write a code to create a set with the elements 'a', 'b', 'c' and print it ?\n",
    "sol:- \n",
    "'''\n",
    "set1 = {'a', 'b', 'c'}\n",
    "print(set1)\n"
   ]
  },
  {
   "cell_type": "code",
   "execution_count": 26,
   "id": "638af9c0-f8b9-48b6-9ede-760eeb1a9465",
   "metadata": {},
   "outputs": [
    {
     "name": "stdout",
     "output_type": "stream",
     "text": [
      "{1, 2, 3, 4, 5}\n",
      "------------------After cleaning the set ------------------\n",
      "set()\n"
     ]
    }
   ],
   "source": [
    "'''\n",
    "Q-17> Write a code to clear all elements from the set {1, 2, 3, 4, 5} ?\n",
    "sol:-\n",
    "'''\n",
    "set1 = {1, 2, 3, 4, 5}\n",
    "print(set1)\n",
    "set1.clear()\n",
    "print(\"------------------After cleaning the set ------------------\")\n",
    "print(set1)\n"
   ]
  },
  {
   "cell_type": "code",
   "execution_count": 30,
   "id": "89c6f1c6-6b4e-4100-9d1d-383a1a41f529",
   "metadata": {},
   "outputs": [
    {
     "name": "stdout",
     "output_type": "stream",
     "text": [
      "{1, 2, 3, 4}\n",
      "--------------After removing 4 from the set----------------\n",
      "{1, 2, 3}\n"
     ]
    }
   ],
   "source": [
    "'''\n",
    "Q-18>  Write a code to remove the element 4 from the set {1, 2, 3, 4} ?\n",
    "sol:-\n",
    "'''\n",
    "set1 = {1, 2, 3, 4}\n",
    "print(set1)\n",
    "set1.remove(4)\n",
    "print(\"--------------After removing 4 from the set----------------\")\n",
    "print(set1)\n"
   ]
  },
  {
   "cell_type": "code",
   "execution_count": 32,
   "id": "7dcfde82-0452-4af0-8eb4-47b909154521",
   "metadata": {},
   "outputs": [
    {
     "name": "stdout",
     "output_type": "stream",
     "text": [
      "{1, 2, 3, 4, 5}\n"
     ]
    }
   ],
   "source": [
    "'''\n",
    "Q-19>  Write a code to find the union of two sets {1, 2, 3} and {3, 4, 5} ?\n",
    "sol:-\n",
    "'''\n",
    "set1 = {1, 2, 3}\n",
    "set2 = {3, 4, 5}\n",
    "f = set1 | set2\n",
    "print(f)\n"
   ]
  },
  {
   "cell_type": "code",
   "execution_count": 34,
   "id": "1cdf716e-e19d-41ad-ba96-ff518abbdfe9",
   "metadata": {},
   "outputs": [
    {
     "name": "stdout",
     "output_type": "stream",
     "text": [
      "{2, 3}\n"
     ]
    }
   ],
   "source": [
    "'''\n",
    "Q-20>  Write a code to find the intersection of two sets {1, 2, 3} and {2, 3, 4}?\n",
    "sol:-\n",
    "'''\n",
    "set1 = {1, 2, 3}\n",
    "set2 = {2, 3, 4}\n",
    "f = set1 & set2\n",
    "print(f)\n"
   ]
  },
  {
   "cell_type": "code",
   "execution_count": 36,
   "id": "04679fe8-0bb6-431b-bf00-1e08fd63b952",
   "metadata": {},
   "outputs": [
    {
     "name": "stdout",
     "output_type": "stream",
     "text": [
      "{'name': 'Bob', 'age': 42, 'city': 'Itly'}\n"
     ]
    }
   ],
   "source": [
    "'''\n",
    "Q-21> Write a code to create a dictionary with the keys \"name\", \"age\", and \"city\", and print it ?\n",
    "sol:-\n",
    "'''\n",
    "person_details = {\"name\": \"Bob\",\"age\": 42,\"city\": \"Itly\"}\n",
    "print(person_details)\n"
   ]
  },
  {
   "cell_type": "code",
   "execution_count": 38,
   "id": "a023eab2-8fcb-478c-b816-a736e118ead0",
   "metadata": {},
   "outputs": [
    {
     "name": "stdout",
     "output_type": "stream",
     "text": [
      "{'name': 'John', 'age': 25, 'country': 'USA'}\n"
     ]
    }
   ],
   "source": [
    "'''\n",
    "Q-22> Write a code to add a new key-value pair \"country\": \"USA\" to the dictionary {'name': 'John', 'age': 25} ?\n",
    "sol:-\n",
    "'''\n",
    "person_details = {'name': 'John', 'age': 25}\n",
    "person_details['country'] = 'USA'\n",
    "print(person_details)\n"
   ]
  },
  {
   "cell_type": "code",
   "execution_count": 40,
   "id": "2a27ee63-d863-430c-a89a-9477f740b24c",
   "metadata": {},
   "outputs": [
    {
     "name": "stdout",
     "output_type": "stream",
     "text": [
      "Alice\n"
     ]
    }
   ],
   "source": [
    "'''\n",
    "Q-23> Write a code to access the value associated with the key \"name\" in the dictionary {'name': 'Alice', 'age': 30} ?\n",
    "sol:-\n",
    "'''\n",
    "person_details = {'name': 'Alice', 'age': 30}\n",
    "v = person_details['name']\n",
    "print(v)\n"
   ]
  },
  {
   "cell_type": "code",
   "execution_count": 42,
   "id": "bb9509c3-d1f4-49c7-886f-3a1839012101",
   "metadata": {},
   "outputs": [
    {
     "name": "stdout",
     "output_type": "stream",
     "text": [
      "Alice\n"
     ]
    }
   ],
   "source": [
    "# using get() method\n",
    "person_details = {'name': 'Alice', 'age': 30}\n",
    "v = person_details.get('name')\n",
    "print(v)\n"
   ]
  },
  {
   "cell_type": "code",
   "execution_count": 64,
   "id": "ddb4c72f-54e0-46f7-961e-67b0d51fae17",
   "metadata": {},
   "outputs": [
    {
     "name": "stdout",
     "output_type": "stream",
     "text": [
      "{'name': 'Bob', 'age': 22, 'city': 'New York'}\n",
      "--------------------After deleting the \"age\" key from dictionary using pop() method ----------------------------\n",
      "{'name': 'Bob', 'city': 'New York'}\n"
     ]
    }
   ],
   "source": [
    "'''\n",
    "Q-24> Write a code to remove the key \"age\" from the dictionary {'name': 'Bob', 'age': 22, 'city': 'New York'} ?\n",
    "sol:-\n",
    "'''\n",
    "person_details = {'name': 'Bob', 'age': 22, 'city': 'New York'}\n",
    "print(person_details) \n",
    "v = person_details.pop('age')\n",
    "print(\"--------------------After deleting the \\\"age\\\" key from dictionary using pop() method ----------------------------\") \n",
    "print(person_details)\n"
   ]
  },
  {
   "cell_type": "code",
   "execution_count": 60,
   "id": "1c05061f-2d67-4f1b-9646-8502d80ed12d",
   "metadata": {},
   "outputs": [
    {
     "name": "stdout",
     "output_type": "stream",
     "text": [
      "{'name': 'Bob', 'age': 22, 'city': 'New York'}\n",
      "--------------------After deleting the \"age\" key from dictionary using del() method ----------------------------\n",
      "{'name': 'Bob', 'city': 'New York'}\n"
     ]
    }
   ],
   "source": [
    "#using del() method \n",
    "person_details = {'name': 'Bob', 'age': 22, 'city': 'New York'}\n",
    "print(person_details)\n",
    "del person_details['age']\n",
    "print(\"--------------------After deleting the \\\"age\\\" key from dictionary using del() method ----------------------------\")\n",
    "print(person_details)  \n"
   ]
  },
  {
   "cell_type": "code",
   "execution_count": 66,
   "id": "e6d31431-cb3a-4790-a37b-13aeca397853",
   "metadata": {},
   "outputs": [
    {
     "name": "stdout",
     "output_type": "stream",
     "text": [
      " 'city' exists in the dictionary.\n"
     ]
    }
   ],
   "source": [
    "'''\n",
    "Q-25>  Write a code to check if the key \"city\" exists in the dictionary {'name': 'Alice', 'city': 'Paris'}?\n",
    "sol:-\n",
    "'''\n",
    "person_details = {'name': 'Alice', 'city': 'Paris'}\n",
    "if 'city' in person_details:\n",
    "    print(\" 'city' exists in the dictionary.\")\n",
    "else:\n",
    "    print(\"'city' does not exist in the dictionary.\")\n"
   ]
  },
  {
   "cell_type": "code",
   "execution_count": 68,
   "id": "18abc0d7-165d-4353-8ee0-dac57537e0be",
   "metadata": {},
   "outputs": [
    {
     "name": "stdout",
     "output_type": "stream",
     "text": [
      "List data are as follows:  [1, 2, 3.3, 'Sumit', -12.5]\n",
      "Tuple data are as followed:  ('bob', -1, 12.5)\n",
      "Dictionary data are as follows:  {'name': 'jenifer', 'age': 19, 'city': 'Argentina'}\n"
     ]
    }
   ],
   "source": [
    "'''\n",
    "Q-26> Write a code to create a list, a tuple, and a dictionary, and print them all?\n",
    "sol:-\n",
    "'''\n",
    "list1 = [1, 2, 3.3, \"Sumit\", -12.5]\n",
    "tuple1 = ('bob', -1, 12.5)\n",
    "dict1 = {'name': 'jenifer', 'age': 19, 'city': 'Argentina'}\n",
    "print(\"List data are as follows: \", list1)\n",
    "print(\"Tuple data are as followed: \", tuple1)\n",
    "print(\"Dictionary data are as follows: \", dict1)\n"
   ]
  },
  {
   "cell_type": "code",
   "execution_count": 75,
   "id": "6c977791-feb2-4a90-ae14-496a9c785378",
   "metadata": {},
   "outputs": [
    {
     "name": "stdout",
     "output_type": "stream",
     "text": [
      "Random numbers are sorted :  [12, 54, 62, 98, 100]\n"
     ]
    }
   ],
   "source": [
    "'''\n",
    "Q-27 > Write a code to create a list of 5 random numbers between 1 and 100, sort it in ascending order, and print the\n",
    "result.(replaced) ?\n",
    "sol:-\n",
    "'''\n",
    "import random  \n",
    "num = random.sample(range(1, 101), 5)\n",
    "num.sort()\n",
    "print(\"Random numbers are sorted : \", num)\n"
   ]
  },
  {
   "cell_type": "code",
   "execution_count": 77,
   "id": "28ed86b8-1253-4fb3-abfe-0ce850e8a6ca",
   "metadata": {},
   "outputs": [
    {
     "name": "stdout",
     "output_type": "stream",
     "text": [
      "The element at the third index are as follows:  Goa\n"
     ]
    }
   ],
   "source": [
    "'''\n",
    "Q-28>  Write a code to create a list with strings and print the element at the third index ?\n",
    "sol:-\n",
    "'''\n",
    "list1 = [\"vishakapatnam\", \"Gujrat\", \"Mumbai\", \"Goa\", \"Delhi\"]\n",
    "print(\"The element at the third index are as follows: \", list1[3])\n"
   ]
  },
  {
   "cell_type": "code",
   "execution_count": 81,
   "id": "4ebb9cd5-c7e5-4473-ac55-1d1cdb177a1b",
   "metadata": {},
   "outputs": [
    {
     "name": "stdout",
     "output_type": "stream",
     "text": [
      "combination two dictionaries:  {'Book_name': \"Uncle Tom's Cabin\", 'price': 325, 'Author_name': 'Harriet Beecher Stowe', 'country': 'America'}\n"
     ]
    }
   ],
   "source": [
    "'''\n",
    "Q-29>  Write a code to combine two dictionaries into one and print the result ?\n",
    "sol:-\n",
    "'''\n",
    "dict1 = {\"Book_name\": \"Uncle Tom's Cabin\", \"price\": 325}\n",
    "dict2 = {\"Author_name\": \"Harriet Beecher Stowe\", \"country\": \"America\"}\n",
    "d = dict1 | dict2\n",
    "print(\"combination two dictionaries: \", d)\n"
   ]
  },
  {
   "cell_type": "code",
   "execution_count": 93,
   "id": "a3b14c3b-5d87-4ff7-baa5-648dcdbd153a",
   "metadata": {},
   "outputs": [
    {
     "name": "stdout",
     "output_type": "stream",
     "text": [
      "------the list of string are as follows-------------------------\n",
      "\n",
      "\n",
      "['orange', 'red', 'blue', 'purple', 'white']\n",
      "\n",
      "\n",
      "----------------Converted a list of strings into a set------------\n",
      "\n",
      "\n",
      "{'blue', 'orange', 'purple', 'white', 'red'}\n"
     ]
    }
   ],
   "source": [
    "'''\n",
    "Q-30> Write a code to convert a list of strings into a set ?\n",
    "sol:-\n",
    "'''\n",
    "l = [\"orange\", \"red\", \"blue\", \"purple\", \"white\"]\n",
    "print(\"------the list of string are as follows-------------------------\")\n",
    "print(\"\\n\")\n",
    "print(l)\n",
    "d = set(l)\n",
    "print(\"\\n\")\n",
    "print(\"----------------Converted a list of strings into a set------------\")\n",
    "print(\"\\n\")\n",
    "print(d)\n"
   ]
  }
 ],
 "metadata": {
  "kernelspec": {
   "display_name": "Python [conda env:base] *",
   "language": "python",
   "name": "conda-base-py"
  },
  "language_info": {
   "codemirror_mode": {
    "name": "ipython",
    "version": 3
   },
   "file_extension": ".py",
   "mimetype": "text/x-python",
   "name": "python",
   "nbconvert_exporter": "python",
   "pygments_lexer": "ipython3",
   "version": "3.12.7"
  }
 },
 "nbformat": 4,
 "nbformat_minor": 5
}
